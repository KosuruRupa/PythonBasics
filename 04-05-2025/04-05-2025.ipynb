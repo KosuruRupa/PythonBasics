{
 "cells": [
  {
   "cell_type": "markdown",
   "metadata": {},
   "source": [
    "# Conditionals\n"
   ]
  },
  {
   "cell_type": "markdown",
   "metadata": {},
   "source": [
    "## Assignment:1"
   ]
  },
  {
   "cell_type": "code",
   "execution_count": 5,
   "metadata": {},
   "outputs": [
    {
     "name": "stdout",
     "output_type": "stream",
     "text": [
      "go to beach\n"
     ]
    }
   ],
   "source": [
    "money = int(input(\"Enter the Amount: \"))\n",
    "time = int(input(\"Enter time: \"))\n",
    "if money >200:\n",
    "    if time > 7:\n",
    "        print(\"go to ice cream parlour\")\n",
    "    else:\n",
    "        print(\"go home\")\n",
    "if money < 200:\n",
    "    if time > 7:\n",
    "        print(\"go to ice cream parlour\")\n",
    "    else:\n",
    "        print(\"go to beach\")"
   ]
  },
  {
   "cell_type": "markdown",
   "metadata": {},
   "source": []
  },
  {
   "cell_type": "markdown",
   "metadata": {},
   "source": [
    "## Assignment"
   ]
  },
  {
   "cell_type": "code",
   "execution_count": null,
   "metadata": {},
   "outputs": [],
   "source": [
    "list_1 = ['ru', 'india', 'ru@gmail.com', 27]\n",
    "list_2= ['ra', 'US', 'ra@gmail.com', 32]\n",
    "append_list = []\n",
    "append_list.append(list_1)\n",
    "append_list.append(list_2)\n",
    "print(append_list)\n",
    "print(append_list[0][0], append_list[0][3])\n",
    "user_id = int(input(\"enter id: \"))\n",
    "print(append_list[user_id][0], append_list[user_id][3])"
   ]
  }
 ],
 "metadata": {
  "kernelspec": {
   "display_name": "base",
   "language": "python",
   "name": "python3"
  },
  "language_info": {
   "codemirror_mode": {
    "name": "ipython",
    "version": 3
   },
   "file_extension": ".py",
   "mimetype": "text/x-python",
   "name": "python",
   "nbconvert_exporter": "python",
   "pygments_lexer": "ipython3",
   "version": "3.9.1"
  }
 },
 "nbformat": 4,
 "nbformat_minor": 2
}
