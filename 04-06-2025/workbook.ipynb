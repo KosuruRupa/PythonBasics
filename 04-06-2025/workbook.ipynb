{
 "cells": [
  {
   "cell_type": "markdown",
   "metadata": {},
   "source": [
    "## Assignment 2"
   ]
  },
  {
   "cell_type": "code",
   "execution_count": 50,
   "metadata": {},
   "outputs": [],
   "source": [
    "patient_details = []"
   ]
  },
  {
   "cell_type": "code",
   "execution_count": 69,
   "metadata": {},
   "outputs": [
    {
     "name": "stdout",
     "output_type": "stream",
     "text": [
      "[['rupa', ' india', ' rupa@gmail.com', ' 27'], ['ashwini', ' bangalore', ' ashwini@email.com', ' 31'], ['sravani', ' nellore', ' sravani@email.com', ' 28'], ['sai', ' rajampet', ' sai@email.com', ' 23'], ['ranganath', ' eluru', ' ranganath@email.com', ' 32'], ['surendra', ' nellore', ' surendra@email.com', ' 62'], ['jyothi', ' rajupalem', ' jyothi@email.com', ' 50'], ['']]\n",
      "8\n"
     ]
    }
   ],
   "source": [
    "patient_info = input('name: , place:, email:, age: ').split(\",\")\n",
    "patient_details.append(patient_info)\n",
    "print(patient_details)\n",
    "print(len(patient_details))"
   ]
  },
  {
   "cell_type": "code",
   "execution_count": 151,
   "metadata": {},
   "outputs": [
    {
     "name": "stdout",
     "output_type": "stream",
     "text": [
      "entered id is: 7\n"
     ]
    }
   ],
   "source": [
    "\n",
    "patient_id = int(input(\"enter patient ID: \"))\n",
    "print(f\"entered id is: {patient_id}\")\n"
   ]
  },
  {
   "cell_type": "code",
   "execution_count": null,
   "metadata": {},
   "outputs": [
    {
     "name": "stdout",
     "output_type": "stream",
     "text": [
      "-8\n"
     ]
    }
   ],
   "source": [
    "\n",
    "\"\"\"negative_index = (-(len(patient_details)))\n",
    "print(negative_index)\n",
    "## print(patient_details[id][0], patient_details[id] [3])\"\"\""
   ]
  },
  {
   "cell_type": "code",
   "execution_count": null,
   "metadata": {},
   "outputs": [
    {
     "name": "stdout",
     "output_type": "stream",
     "text": [
      "8\n",
      "False\n"
     ]
    }
   ],
   "source": [
    "\"\"\"print(patient_id + 1)\n",
    "print((patient_id + 1) > len(patient_details)) \"\"\""
   ]
  },
  {
   "cell_type": "code",
   "execution_count": null,
   "metadata": {},
   "outputs": [
    {
     "name": "stdout",
     "output_type": "stream",
     "text": [
      "unexpected error\n"
     ]
    }
   ],
   "source": [
    "\"\"\" if (patient_id + 1) < len(patient_details):\n",
    "    print(\"enter details of patient\")\n",
    "    if patient_id > negative_index:  \n",
    "            print(\"Exceed the limit of entries: \")\n",
    "    else: \n",
    "            print(patient_details[patient_id][0], patient_details[patient_id][3])\n",
    "else:\n",
    "    print(\"unexpected error\")\"\"\" "
   ]
  },
  {
   "cell_type": "code",
   "execution_count": null,
   "metadata": {},
   "outputs": [
    {
     "name": "stdout",
     "output_type": "stream",
     "text": [
      "Name: \n"
     ]
    },
    {
     "ename": "IndexError",
     "evalue": "list index out of range",
     "output_type": "error",
     "traceback": [
      "\u001b[0;31m---------------------------------------------------------------------------\u001b[0m",
      "\u001b[0;31mIndexError\u001b[0m                                Traceback (most recent call last)",
      "Cell \u001b[0;32mIn[152], line 3\u001b[0m\n\u001b[1;32m      1\u001b[0m \u001b[38;5;28;01mif\u001b[39;00m \u001b[38;5;241m-\u001b[39m\u001b[38;5;28mlen\u001b[39m(patient_details) \u001b[38;5;241m<\u001b[39m\u001b[38;5;241m=\u001b[39m patient_id \u001b[38;5;241m<\u001b[39m \u001b[38;5;28mlen\u001b[39m(patient_details):\n\u001b[1;32m      2\u001b[0m     \u001b[38;5;28mprint\u001b[39m(\u001b[38;5;124m\"\u001b[39m\u001b[38;5;124mName:\u001b[39m\u001b[38;5;124m\"\u001b[39m, patient_details[patient_id][\u001b[38;5;241m0\u001b[39m])\n\u001b[0;32m----> 3\u001b[0m     \u001b[38;5;28mprint\u001b[39m(\u001b[38;5;124m\"\u001b[39m\u001b[38;5;124mAge:\u001b[39m\u001b[38;5;124m\"\u001b[39m, \u001b[43mpatient_details\u001b[49m\u001b[43m[\u001b[49m\u001b[43mpatient_id\u001b[49m\u001b[43m]\u001b[49m\u001b[43m[\u001b[49m\u001b[38;5;241;43m3\u001b[39;49m\u001b[43m]\u001b[49m)\n\u001b[1;32m      4\u001b[0m \u001b[38;5;28;01melse\u001b[39;00m:\n\u001b[1;32m      5\u001b[0m     \u001b[38;5;28mprint\u001b[39m(\u001b[38;5;124m\"\u001b[39m\u001b[38;5;124m❌ Invalid ID: Out of range\u001b[39m\u001b[38;5;124m\"\u001b[39m)\n",
      "\u001b[0;31mIndexError\u001b[0m: list index out of range"
     ]
    }
   ],
   "source": [
    "### chatgpt logic\n",
    "if -len(patient_details) <= patient_id < len(patient_details):\n",
    "    print(\"Name:\", patient_details[patient_id][0])\n",
    "    print(\"Age:\", patient_details[patient_id][3])\n",
    "else:\n",
    "    print(\"❌ Invalid ID: Out of range\")"
   ]
  }
 ],
 "metadata": {
  "kernelspec": {
   "display_name": "base",
   "language": "python",
   "name": "python3"
  },
  "language_info": {
   "codemirror_mode": {
    "name": "ipython",
    "version": 3
   },
   "file_extension": ".py",
   "mimetype": "text/x-python",
   "name": "python",
   "nbconvert_exporter": "python",
   "pygments_lexer": "ipython3",
   "version": "3.9.1"
  }
 },
 "nbformat": 4,
 "nbformat_minor": 2
}
