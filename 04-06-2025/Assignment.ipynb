{
 "cells": [
  {
   "cell_type": "markdown",
   "metadata": {},
   "source": [
    "# Assignment 2\n"
   ]
  },
  {
   "cell_type": "markdown",
   "metadata": {},
   "source": [
    "## Problem Statement:\n",
    "1. Create a single variable called patient_details:\n",
    "2. Take a list as input & store patient info: name, place, email, age.\n",
    "3. When asked for a patient's details, use the patient ID to get the name and age only."
   ]
  },
  {
   "cell_type": "code",
   "execution_count": 78,
   "metadata": {},
   "outputs": [],
   "source": [
    "patient_details = []  ## Created a variable and assign it to empty list"
   ]
  },
  {
   "cell_type": "code",
   "execution_count": 85,
   "metadata": {},
   "outputs": [
    {
     "name": "stdout",
     "output_type": "stream",
     "text": [
      "[['rupa', ' rajampet', ' rupa@email.com', ' 27'], ['sam', ' US', ' sam@email.com', ' 39'], ['ranganath', ' eluru', ' ranga@email.com', ' 32'], ['aswini', ' kadapa', ' as@email.com', '31']]\n",
      "4\n"
     ]
    }
   ],
   "source": [
    "patient_info = input('name: , place:, email:, age: ').split(\",\") # Create a patient_info variable and input patient info like name, place, email, age\n",
    "patient_details.append(patient_info)   # append patient_info to patient_details\n",
    "print(patient_details) # print patient_details\n",
    "print(len(patient_details)) # prints length of patient_details"
   ]
  },
  {
   "cell_type": "code",
   "execution_count": 97,
   "metadata": {},
   "outputs": [
    {
     "name": "stdout",
     "output_type": "stream",
     "text": [
      "entered id is: 0\n"
     ]
    }
   ],
   "source": [
    "patient_id = int(input(\"enter patient ID: \")) # input patient_id \n",
    "print(f\"entered id is: {patient_id}\")  # prints entered patient's ID"
   ]
  },
  {
   "cell_type": "code",
   "execution_count": 98,
   "metadata": {},
   "outputs": [
    {
     "name": "stdout",
     "output_type": "stream",
     "text": [
      "rupa  27\n"
     ]
    }
   ],
   "source": [
    "\n",
    "if patient_id >= 0 and patient_id < len(patient_details): # if patient_id graeater than length of patient_details:\n",
    "    print(patient_details[patient_id][0], patient_details[patient_id][3])  # returns patient details\n",
    "else:  \n",
    "    print(\"Entered ID is out of range\")  # returns Entered ID is out of range"
   ]
  },
  {
   "cell_type": "code",
   "execution_count": 82,
   "metadata": {},
   "outputs": [
    {
     "name": "stdout",
     "output_type": "stream",
     "text": [
      "rupa  27\n"
     ]
    }
   ],
   "source": [
    "\"\"\"if 0 < len(patient_details): # if patient_id graeater than length of patient_details\n",
    "    print(patient_details[0][0],patient_details[0][3])  # returns patient details\n",
    "else:  \n",
    "    print(\"Entered ID is out of range\")# returns Entered ID is out of range\"\"\""
   ]
  }
 ],
 "metadata": {
  "kernelspec": {
   "display_name": "base",
   "language": "python",
   "name": "python3"
  },
  "language_info": {
   "codemirror_mode": {
    "name": "ipython",
    "version": 3
   },
   "file_extension": ".py",
   "mimetype": "text/x-python",
   "name": "python",
   "nbconvert_exporter": "python",
   "pygments_lexer": "ipython3",
   "version": "3.9.1"
  }
 },
 "nbformat": 4,
 "nbformat_minor": 2
}
